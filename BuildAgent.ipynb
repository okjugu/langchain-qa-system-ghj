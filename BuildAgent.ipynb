{
 "cells": [
  {
   "cell_type": "markdown",
   "id": "9e88c62c-744a-499e-9780-e7b35582b8fe",
   "metadata": {},
   "source": [
    "# 构建代理\n",
    "LangChain 支持创建智能体，即使用大型语言模型作为推理引擎来决定采取哪些行动以及执行行动所需的输入。执行行动后，可以将结果反馈给大型语言模型，以判断是否需要更多行动，或者是否可以结束。这通常通过工具调用实现。"
   ]
  },
  {
   "cell_type": "code",
   "execution_count": 1,
   "id": "7e49331f-f080-42de-9e35-a27a1f4b2c0b",
   "metadata": {},
   "outputs": [
    {
     "name": "stdout",
     "output_type": "stream",
     "text": [
      "Requirement already satisfied: langgraph in c:\\users\\okjug\\.conda\\envs\\langchain_env_1017\\lib\\site-packages (0.6.10)\n",
      "Collecting langchain-tavily\n",
      "  Downloading langchain_tavily-0.2.11-py3-none-any.whl.metadata (22 kB)\n",
      "Collecting langgraph-checkpoint-sqlite\n",
      "  Downloading langgraph_checkpoint_sqlite-2.0.11-py3-none-any.whl.metadata (2.6 kB)\n",
      "Requirement already satisfied: langchain-core>=0.1 in c:\\users\\okjug\\.conda\\envs\\langchain_env_1017\\lib\\site-packages (from langgraph) (0.3.79)\n",
      "Requirement already satisfied: langgraph-checkpoint<3.0.0,>=2.1.0 in c:\\users\\okjug\\.conda\\envs\\langchain_env_1017\\lib\\site-packages (from langgraph) (2.1.2)\n",
      "Requirement already satisfied: langgraph-prebuilt<0.7.0,>=0.6.0 in c:\\users\\okjug\\.conda\\envs\\langchain_env_1017\\lib\\site-packages (from langgraph) (0.6.4)\n",
      "Requirement already satisfied: langgraph-sdk<0.3.0,>=0.2.2 in c:\\users\\okjug\\.conda\\envs\\langchain_env_1017\\lib\\site-packages (from langgraph) (0.2.9)\n",
      "Requirement already satisfied: pydantic>=2.7.4 in c:\\users\\okjug\\.conda\\envs\\langchain_env_1017\\lib\\site-packages (from langgraph) (2.11.9)\n",
      "Requirement already satisfied: xxhash>=3.5.0 in c:\\users\\okjug\\.conda\\envs\\langchain_env_1017\\lib\\site-packages (from langgraph) (3.6.0)\n",
      "Requirement already satisfied: ormsgpack>=1.10.0 in c:\\users\\okjug\\.conda\\envs\\langchain_env_1017\\lib\\site-packages (from langgraph-checkpoint<3.0.0,>=2.1.0->langgraph) (1.11.0)\n",
      "Requirement already satisfied: httpx>=0.25.2 in c:\\users\\okjug\\.conda\\envs\\langchain_env_1017\\lib\\site-packages (from langgraph-sdk<0.3.0,>=0.2.2->langgraph) (0.28.1)\n",
      "Requirement already satisfied: orjson>=3.10.1 in c:\\users\\okjug\\.conda\\envs\\langchain_env_1017\\lib\\site-packages (from langgraph-sdk<0.3.0,>=0.2.2->langgraph) (3.10.14)\n",
      "Requirement already satisfied: aiohttp<4.0.0,>=3.11.14 in c:\\users\\okjug\\.conda\\envs\\langchain_env_1017\\lib\\site-packages (from langchain-tavily) (3.13.0)\n",
      "Requirement already satisfied: langchain<0.4.0,>=0.3.20 in c:\\users\\okjug\\.conda\\envs\\langchain_env_1017\\lib\\site-packages (from langchain-tavily) (0.3.27)\n",
      "Requirement already satisfied: requests<3.0.0,>=2.32.3 in c:\\users\\okjug\\.conda\\envs\\langchain_env_1017\\lib\\site-packages (from langchain-tavily) (2.32.5)\n",
      "Requirement already satisfied: aiohappyeyeballs>=2.5.0 in c:\\users\\okjug\\.conda\\envs\\langchain_env_1017\\lib\\site-packages (from aiohttp<4.0.0,>=3.11.14->langchain-tavily) (2.6.1)\n",
      "Requirement already satisfied: aiosignal>=1.4.0 in c:\\users\\okjug\\.conda\\envs\\langchain_env_1017\\lib\\site-packages (from aiohttp<4.0.0,>=3.11.14->langchain-tavily) (1.4.0)\n",
      "Requirement already satisfied: async-timeout<6.0,>=4.0 in c:\\users\\okjug\\.conda\\envs\\langchain_env_1017\\lib\\site-packages (from aiohttp<4.0.0,>=3.11.14->langchain-tavily) (4.0.3)\n",
      "Requirement already satisfied: attrs>=17.3.0 in c:\\users\\okjug\\.conda\\envs\\langchain_env_1017\\lib\\site-packages (from aiohttp<4.0.0,>=3.11.14->langchain-tavily) (24.3.0)\n",
      "Requirement already satisfied: frozenlist>=1.1.1 in c:\\users\\okjug\\.conda\\envs\\langchain_env_1017\\lib\\site-packages (from aiohttp<4.0.0,>=3.11.14->langchain-tavily) (1.8.0)\n",
      "Requirement already satisfied: multidict<7.0,>=4.5 in c:\\users\\okjug\\.conda\\envs\\langchain_env_1017\\lib\\site-packages (from aiohttp<4.0.0,>=3.11.14->langchain-tavily) (6.7.0)\n",
      "Requirement already satisfied: propcache>=0.2.0 in c:\\users\\okjug\\.conda\\envs\\langchain_env_1017\\lib\\site-packages (from aiohttp<4.0.0,>=3.11.14->langchain-tavily) (0.4.1)\n",
      "Requirement already satisfied: yarl<2.0,>=1.17.0 in c:\\users\\okjug\\.conda\\envs\\langchain_env_1017\\lib\\site-packages (from aiohttp<4.0.0,>=3.11.14->langchain-tavily) (1.22.0)\n",
      "Requirement already satisfied: langchain-text-splitters<1.0.0,>=0.3.9 in c:\\users\\okjug\\.conda\\envs\\langchain_env_1017\\lib\\site-packages (from langchain<0.4.0,>=0.3.20->langchain-tavily) (0.3.11)\n",
      "Requirement already satisfied: langsmith>=0.1.17 in c:\\users\\okjug\\.conda\\envs\\langchain_env_1017\\lib\\site-packages (from langchain<0.4.0,>=0.3.20->langchain-tavily) (0.4.32)\n",
      "Requirement already satisfied: SQLAlchemy<3,>=1.4 in c:\\users\\okjug\\.conda\\envs\\langchain_env_1017\\lib\\site-packages (from langchain<0.4.0,>=0.3.20->langchain-tavily) (2.0.43)\n",
      "Requirement already satisfied: PyYAML>=5.3 in c:\\users\\okjug\\.conda\\envs\\langchain_env_1017\\lib\\site-packages (from langchain<0.4.0,>=0.3.20->langchain-tavily) (6.0.2)\n",
      "Requirement already satisfied: tenacity!=8.4.0,<10.0.0,>=8.1.0 in c:\\users\\okjug\\.conda\\envs\\langchain_env_1017\\lib\\site-packages (from langchain-core>=0.1->langgraph) (9.1.2)\n",
      "Requirement already satisfied: jsonpatch<2.0.0,>=1.33.0 in c:\\users\\okjug\\.conda\\envs\\langchain_env_1017\\lib\\site-packages (from langchain-core>=0.1->langgraph) (1.33)\n",
      "Requirement already satisfied: typing-extensions<5.0.0,>=4.7.0 in c:\\users\\okjug\\.conda\\envs\\langchain_env_1017\\lib\\site-packages (from langchain-core>=0.1->langgraph) (4.15.0)\n",
      "Requirement already satisfied: packaging<26.0.0,>=23.2.0 in c:\\users\\okjug\\.conda\\envs\\langchain_env_1017\\lib\\site-packages (from langchain-core>=0.1->langgraph) (25.0)\n",
      "Requirement already satisfied: jsonpointer>=1.9 in c:\\users\\okjug\\.conda\\envs\\langchain_env_1017\\lib\\site-packages (from jsonpatch<2.0.0,>=1.33.0->langchain-core>=0.1->langgraph) (3.0.0)\n",
      "Requirement already satisfied: requests-toolbelt>=1.0.0 in c:\\users\\okjug\\.conda\\envs\\langchain_env_1017\\lib\\site-packages (from langsmith>=0.1.17->langchain<0.4.0,>=0.3.20->langchain-tavily) (1.0.0)\n",
      "Requirement already satisfied: zstandard>=0.23.0 in c:\\users\\okjug\\.conda\\envs\\langchain_env_1017\\lib\\site-packages (from langsmith>=0.1.17->langchain<0.4.0,>=0.3.20->langchain-tavily) (0.24.0)\n",
      "Requirement already satisfied: anyio in c:\\users\\okjug\\.conda\\envs\\langchain_env_1017\\lib\\site-packages (from httpx>=0.25.2->langgraph-sdk<0.3.0,>=0.2.2->langgraph) (4.10.0)\n",
      "Requirement already satisfied: certifi in c:\\users\\okjug\\.conda\\envs\\langchain_env_1017\\lib\\site-packages (from httpx>=0.25.2->langgraph-sdk<0.3.0,>=0.2.2->langgraph) (2025.10.5)\n",
      "Requirement already satisfied: httpcore==1.* in c:\\users\\okjug\\.conda\\envs\\langchain_env_1017\\lib\\site-packages (from httpx>=0.25.2->langgraph-sdk<0.3.0,>=0.2.2->langgraph) (1.0.9)\n",
      "Requirement already satisfied: idna in c:\\users\\okjug\\.conda\\envs\\langchain_env_1017\\lib\\site-packages (from httpx>=0.25.2->langgraph-sdk<0.3.0,>=0.2.2->langgraph) (3.7)\n",
      "Requirement already satisfied: h11>=0.16 in c:\\users\\okjug\\.conda\\envs\\langchain_env_1017\\lib\\site-packages (from httpcore==1.*->httpx>=0.25.2->langgraph-sdk<0.3.0,>=0.2.2->langgraph) (0.16.0)\n",
      "Requirement already satisfied: annotated-types>=0.6.0 in c:\\users\\okjug\\.conda\\envs\\langchain_env_1017\\lib\\site-packages (from pydantic>=2.7.4->langgraph) (0.6.0)\n",
      "Requirement already satisfied: pydantic-core==2.33.2 in c:\\users\\okjug\\.conda\\envs\\langchain_env_1017\\lib\\site-packages (from pydantic>=2.7.4->langgraph) (2.33.2)\n",
      "Requirement already satisfied: typing-inspection>=0.4.0 in c:\\users\\okjug\\.conda\\envs\\langchain_env_1017\\lib\\site-packages (from pydantic>=2.7.4->langgraph) (0.4.2)\n",
      "Requirement already satisfied: charset_normalizer<4,>=2 in c:\\users\\okjug\\.conda\\envs\\langchain_env_1017\\lib\\site-packages (from requests<3.0.0,>=2.32.3->langchain-tavily) (3.3.2)\n",
      "Requirement already satisfied: urllib3<3,>=1.21.1 in c:\\users\\okjug\\.conda\\envs\\langchain_env_1017\\lib\\site-packages (from requests<3.0.0,>=2.32.3->langchain-tavily) (2.5.0)\n",
      "Requirement already satisfied: greenlet>=1 in c:\\users\\okjug\\.conda\\envs\\langchain_env_1017\\lib\\site-packages (from SQLAlchemy<3,>=1.4->langchain<0.4.0,>=0.3.20->langchain-tavily) (3.2.4)\n",
      "Collecting aiosqlite>=0.20 (from langgraph-checkpoint-sqlite)\n",
      "  Downloading aiosqlite-0.21.0-py3-none-any.whl.metadata (4.3 kB)\n",
      "Collecting sqlite-vec>=0.1.6 (from langgraph-checkpoint-sqlite)\n",
      "  Downloading sqlite_vec-0.1.6-py3-none-win_amd64.whl.metadata (198 bytes)\n",
      "Requirement already satisfied: exceptiongroup>=1.0.2 in c:\\users\\okjug\\.conda\\envs\\langchain_env_1017\\lib\\site-packages (from anyio->httpx>=0.25.2->langgraph-sdk<0.3.0,>=0.2.2->langgraph) (1.2.0)\n",
      "Requirement already satisfied: sniffio>=1.1 in c:\\users\\okjug\\.conda\\envs\\langchain_env_1017\\lib\\site-packages (from anyio->httpx>=0.25.2->langgraph-sdk<0.3.0,>=0.2.2->langgraph) (1.3.0)\n",
      "Downloading langchain_tavily-0.2.11-py3-none-any.whl (26 kB)\n",
      "Downloading langgraph_checkpoint_sqlite-2.0.11-py3-none-any.whl (31 kB)\n",
      "Downloading aiosqlite-0.21.0-py3-none-any.whl (15 kB)\n",
      "Downloading sqlite_vec-0.1.6-py3-none-win_amd64.whl (281 kB)\n",
      "Installing collected packages: sqlite-vec, aiosqlite, langgraph-checkpoint-sqlite, langchain-tavily\n",
      "\n",
      "   -------------------- ------------------- 2/4 [langgraph-checkpoint-sqlite]\n",
      "   ---------------------------------------- 4/4 [langchain-tavily]\n",
      "\n",
      "Successfully installed aiosqlite-0.21.0 langchain-tavily-0.2.11 langgraph-checkpoint-sqlite-2.0.11 sqlite-vec-0.1.6\n",
      "Note: you may need to restart the kernel to use updated packages.\n"
     ]
    }
   ],
   "source": [
    "%pip install -U langgraph langchain-tavily langgraph-checkpoint-sqlite"
   ]
  },
  {
   "cell_type": "code",
   "execution_count": 2,
   "id": "d71184fd-1eeb-40bd-ab91-a1073d4dd8ab",
   "metadata": {},
   "outputs": [
    {
     "name": "stdin",
     "output_type": "stream",
     "text": [
      " ········\n"
     ]
    }
   ],
   "source": [
    "import getpass\n",
    "import os\n",
    "\n",
    "os.environ[\"LANGSMITH_TRACING\"] = \"true\"\n",
    "os.environ[\"LANGSMITH_API_KEY\"] = getpass.getpass()"
   ]
  },
  {
   "cell_type": "code",
   "execution_count": 3,
   "id": "b2401c83-f565-4336-b72a-db5039f498f4",
   "metadata": {},
   "outputs": [
    {
     "name": "stdin",
     "output_type": "stream",
     "text": [
      " ········\n"
     ]
    }
   ],
   "source": [
    "import getpass\n",
    "import os\n",
    "\n",
    "os.environ[\"TAVILY_API_KEY\"] = getpass.getpass()"
   ]
  },
  {
   "cell_type": "code",
   "execution_count": 4,
   "id": "bb46d224-b4ff-4656-836c-9b399b639049",
   "metadata": {},
   "outputs": [
    {
     "name": "stdout",
     "output_type": "stream",
     "text": [
      "{'query': '北京的天气', 'follow_up_questions': None, 'answer': None, 'images': [], 'results': [{'url': 'https://www.nmc.cn/publish/forecast/ABJ/beijing.html', 'title': '北京-天气预报 - 中央气象台', 'content': '北京 18.3℃ 西南风 微风 交通气象预报 森林火险预报 草原火险预报 台风海洋 台风快讯与报文 台风路径预报 台风公报 台风预警 海区预报 海事公报 海洋天气预报 近海海雾预报 海区风力预报 北太平洋分析与预报 全球热带气旋监测公报 台风命名 台风综合信息 全球预报 全球天气公报 全球热带气旋监测公报 WMO第XI海区海事天气公报 全球灾害性天气监测月报 全球雨雪落区预报 世界气象中心（北京）门户网 一带一路气象服务 亚洲沙尘暴预报专业气象中心 环境气象 雾预报 霾预报 沙尘天气预报 空气污染气象条件预报 环境气象公报 大气环境气象公报 农业气象 土壤水分监测 + 北京 北京 微风 19℃ 13℃ 微风 微风 15℃ 10℃ 微风 微风 14℃ 6℃ 微风 微风 13℃ 3℃ 微风 微风 11℃ 2℃ 微风 微风 10℃ 5℃ 微风 微风 13℃ 5℃ 微风 18.4℃ 18.9℃ 19.4℃ 16.2℃ 14.6℃ 14.4℃ 13.9℃ 13.5℃ 13.9℃ 14.9℃ 13.5℃ 11.9℃ 11.4℃ 11.1℃ 10.7℃ 10.8℃ 12℃ 13.8℃ 13.2℃ 11.8℃ 8.8℃ 7.2℃ 6.2℃ 7.4℃ 10.2℃ 11.2℃ 12.8℃ 9.7℃ 5.8℃ 4.8℃ 3.2℃ 8.1℃ 8.2℃ 8.5℃ 10.8℃ 6.1℃ 西南风 3.1℃ 2.4℃ 2.2℃ 6.8℃ 8.5℃ 8.8℃ 9.8℃ 6.6℃ 5.9℃ 10.8℃ 11.9℃ 12.8℃ 5.2℃', 'score': 0.78493005, 'raw_content': None}, {'url': 'https://weather.cma.cn/web/weather/', 'title': '中国气象局-天气预报-城市预报- 北京', 'content': '| 气温 | 24.2℃ | 28.3℃ | 28.8℃ | 26.1℃ | 23.8℃ | 23.4℃ | 22.2℃ | 25.3℃ | | 气温 | 25.3℃ | 27.9℃ | 29℃ | 30.8℃ | 27.6℃ | 26.6℃ | 24.8℃ | 24.2℃ | | 气温 | 25.8℃ | 29.6℃ | 30.8℃ | 29.4℃ | 28.9℃ | 25.2℃ | 24.9℃ | 24.2℃ | | 气温 | 25.9℃ | 27.7℃ | 30.8℃ | 29.4℃ | 27.4℃ | 26℃ | 24.2℃ | 25.4℃ | | 气温 | 26.9℃ | 28.7℃ | 29.8℃ | 27.7℃ | 27.3℃ | 26.1℃ | 25.9℃ | 25.3℃ | | 气温 | 25.2℃ | 26.5℃ | 29.8℃ | 28.9℃ | 27.9℃ | 26.1℃ | 24.9℃ | 24.7℃ |', 'score': 0.7576693, 'raw_content': None}], 'response_time': 0.82, 'request_id': 'be9a4121-c1f2-4edb-b99c-bf06c21289fa'}\n"
     ]
    }
   ],
   "source": [
    "from langchain_tavily import TavilySearch\n",
    "\n",
    "search = TavilySearch(max_results=2)\n",
    "search_results = search.invoke(\"北京的天气\")\n",
    "print(search_results)\n",
    "# If we want, we can create other tools.\n",
    "# Once we have all the tools we want, we can put them in a list that we will reference later.\n",
    "tools = [search]"
   ]
  },
  {
   "cell_type": "code",
   "execution_count": 5,
   "id": "4b3b9a8d-53f8-4a79-b4a3-f5fb84ed7521",
   "metadata": {},
   "outputs": [
    {
     "name": "stdin",
     "output_type": "stream",
     "text": [
      "Enter API key for DeepSeek:  ········\n"
     ]
    }
   ],
   "source": [
    "import getpass\n",
    "import os\n",
    "\n",
    "if not os.environ.get(\"DEEPSEEK_API_KEY\"):\n",
    "  os.environ[\"DEEPSEEK_API_KEY\"] = getpass.getpass(\"Enter API key for DeepSeek: \")\n",
    "\n",
    "from langchain.chat_models import init_chat_model\n",
    "\n",
    "model = init_chat_model(\"deepseek-chat\", model_provider=\"deepseek\")"
   ]
  },
  {
   "cell_type": "code",
   "execution_count": 6,
   "id": "a4c17242-a1b3-400b-913a-05119f8a5301",
   "metadata": {},
   "outputs": [
    {
     "data": {
      "text/plain": [
       "'Hello! 👋 How can I help you today?'"
      ]
     },
     "execution_count": 6,
     "metadata": {},
     "output_type": "execute_result"
    }
   ],
   "source": [
    "query = \"Hi!\"\n",
    "response = model.invoke([{\"role\": \"user\", \"content\": query}])\n",
    "response.text()"
   ]
  },
  {
   "cell_type": "code",
   "execution_count": 7,
   "id": "78b37e88-0721-4917-a162-c8885988bc60",
   "metadata": {},
   "outputs": [],
   "source": [
    "model_with_tools = model.bind_tools(tools)"
   ]
  },
  {
   "cell_type": "code",
   "execution_count": 8,
   "id": "bc5139c5-5e6b-4866-a5a0-99fe82726434",
   "metadata": {},
   "outputs": [
    {
     "name": "stdout",
     "output_type": "stream",
     "text": [
      "Message content: Hello! 👋 I'm here to help you with whatever you need. Whether you're looking for information, have questions, or need assistance with research, I'm ready to assist. What can I do for you today?\n",
      "\n",
      "Tool calls: []\n"
     ]
    }
   ],
   "source": [
    "query = \"Hi!\"\n",
    "response = model_with_tools.invoke([{\"role\": \"user\", \"content\": query}])\n",
    "\n",
    "print(f\"Message content: {response.text()}\\n\")\n",
    "print(f\"Tool calls: {response.tool_calls}\")"
   ]
  },
  {
   "cell_type": "code",
   "execution_count": 9,
   "id": "45e0a524-a6ec-4744-bb46-3ba96c2d9b74",
   "metadata": {},
   "outputs": [
    {
     "name": "stdout",
     "output_type": "stream",
     "text": [
      "Message content: 我来帮您查找上海崇宁的天气信息。\n",
      "\n",
      "Tool calls: [{'name': 'tavily_search', 'args': {'query': '上海崇宁天气预报', 'search_depth': 'basic'}, 'id': 'call_00_2wPyTiRPqbtPQZXa6SSkbHY9', 'type': 'tool_call'}]\n"
     ]
    }
   ],
   "source": [
    "query = \"查找上海崇宁的天气\"\n",
    "response = model_with_tools.invoke([{\"role\": \"user\", \"content\": query}])\n",
    "\n",
    "print(f\"Message content: {response.text()}\\n\")\n",
    "print(f\"Tool calls: {response.tool_calls}\")"
   ]
  },
  {
   "cell_type": "markdown",
   "id": "fbee4545-c15c-4575-ab3f-59615c13bd63",
   "metadata": {},
   "source": [
    "我们可以看到现在没有文本内容，但有一个工具调用！它要求我们调用 Tavily 搜索工具。\n",
    "\n",
    "这还没有实际调用该工具——它只是在告诉我们应该调用。为了实际调用它，我们需要创建我们的智能体。"
   ]
  },
  {
   "cell_type": "code",
   "execution_count": 10,
   "id": "6fed4143-fdc4-47f2-b29c-5f6e5ccbc2a5",
   "metadata": {},
   "outputs": [],
   "source": [
    "from langgraph.prebuilt import create_react_agent\n",
    "\n",
    "agent_executor = create_react_agent(model, tools)"
   ]
  },
  {
   "cell_type": "markdown",
   "id": "a9786d7c-91aa-4fef-a1d6-65d4b56ab57d",
   "metadata": {},
   "source": [
    "现在我们已经定义了工具和大型语言模型，我们可以创建智能体了。我们将使用LangGraph来构建智能体。目前，我们正在使用一个高级接口来构建智能体，但 LangGraph 的优点在于，这个高级接口由一个低级别、高度可控的 API 支持，以防你想要修改智能体逻辑。\n",
    "\n",
    "现在，我们可以使用大型语言模型和工具初始化智能体。\n",
    "\n",
    "请注意，我们传入的是model，而不是model_with_tools。这是因为create_react_agent将在底层为我们调用.bind_tools。"
   ]
  },
  {
   "cell_type": "code",
   "execution_count": 11,
   "id": "3b4b3500-2eb6-44d0-a7ed-0833e3f69eb6",
   "metadata": {},
   "outputs": [
    {
     "name": "stdout",
     "output_type": "stream",
     "text": [
      "================================\u001b[1m Human Message \u001b[0m=================================\n",
      "\n",
      "Hi!\n",
      "==================================\u001b[1m Ai Message \u001b[0m==================================\n",
      "\n",
      "Hello! 👋 I'm here to help you with any questions or tasks you might have. Whether you need information, research, analysis, or just want to chat, I'm ready to assist! What can I do for you today?\n"
     ]
    }
   ],
   "source": [
    "input_message = {\"role\": \"user\", \"content\": \"Hi!\"}\n",
    "response = agent_executor.invoke({\"messages\": [input_message]})\n",
    "\n",
    "for message in response[\"messages\"]:\n",
    "    message.pretty_print()"
   ]
  },
  {
   "cell_type": "code",
   "execution_count": 12,
   "id": "cceb7c9a-59c3-4e25-98cb-a35859bc7806",
   "metadata": {},
   "outputs": [
    {
     "name": "stdout",
     "output_type": "stream",
     "text": [
      "================================\u001b[1m Human Message \u001b[0m=================================\n",
      "\n",
      "查找上海闵行的天气\n",
      "==================================\u001b[1m Ai Message \u001b[0m==================================\n",
      "\n",
      "我来为您查找上海闵行的天气信息。\n",
      "Tool Calls:\n",
      "  tavily_search (call_00_JMbrDndcJr0bI1GnN7KFp6i3)\n",
      " Call ID: call_00_JMbrDndcJr0bI1GnN7KFp6i3\n",
      "  Args:\n",
      "    query: 上海闵行天气 今天 温度 降雨\n",
      "    search_depth: basic\n",
      "=================================\u001b[1m Tool Message \u001b[0m=================================\n",
      "Name: tavily_search\n",
      "\n",
      "{\"query\": \"上海闵行天气 今天 温度 降雨\", \"follow_up_questions\": null, \"answer\": null, \"images\": [], \"results\": [{\"url\": \"https://tianqi.moji.com/weather/china/shanghai/minhang-district\", \"title\": \"闵行区天气预报_天气查询 - 墨迹天气\", \"content\": \"闵行区今天实况：19度多云，湿度：74%，北风：3级。白天：24度,阴。 夜间：小雨，17度，天气较热，墨迹天气建议您选择短袖上衣加七分裤的搭配，针织衫是进出空调房的必备单品。\", \"score\": 0.86108357, \"raw_content\": null}, {\"url\": \"https://www.accuweather.com/zh/cn/minhang-district/60811/weather-forecast/60811\", \"title\": \"閔行區, 上海市, 中國三日天氣預報 - AccuWeather\", \"content\": \"今天. 10/18. 75° 66°. 零星有雨和雷暴. 局部多雲轉多雲 ; 周日. 10/19. 71° 63°. 低雲層. 多雲 ; 周一. 10/20. 68° 60°. 多雲. 多雲.\", \"score\": 0.81133276, \"raw_content\": null}], \"response_time\": 0.94, \"request_id\": \"719e73a1-f016-4677-afa0-8439ec6ffd9e\"}\n",
      "==================================\u001b[1m Ai Message \u001b[0m==================================\n",
      "\n",
      "根据搜索结果，我为您整理了上海闵行区的天气信息：\n",
      "\n",
      "## 上海闵行区今日天气\n",
      "\n",
      "**当前实况：**\n",
      "- 温度：19°C\n",
      "- 天气：多云\n",
      "- 湿度：74%\n",
      "- 风向：北风3级\n",
      "\n",
      "**今日预报：**\n",
      "- 白天：24°C，阴天\n",
      "- 夜间：17°C，小雨\n",
      "\n",
      "**穿衣建议：**\n",
      "天气较热，建议选择短袖上衣加七分裤的搭配，针织衫是进出空调房的必备单品。\n",
      "\n",
      "**未来几天预报：**\n",
      "- 明天（10/19）：21°C，多云\n",
      "- 周一（10/20）：20°C，多云\n",
      "\n",
      "请注意，今天夜间有小雨，建议您出门时携带雨具。\n"
     ]
    }
   ],
   "source": [
    "input_message = {\"role\": \"user\", \"content\": \"查找上海闵行的天气\"}\n",
    "response = agent_executor.invoke({\"messages\": [input_message]})\n",
    "\n",
    "for message in response[\"messages\"]:\n",
    "    message.pretty_print()"
   ]
  },
  {
   "cell_type": "code",
   "execution_count": 14,
   "id": "218fb161-233f-41b1-8f75-aa2094799c50",
   "metadata": {},
   "outputs": [
    {
     "name": "stdout",
     "output_type": "stream",
     "text": [
      "================================\u001b[1m Human Message \u001b[0m=================================\n",
      "\n",
      "查找上海闵行的天气\n",
      "==================================\u001b[1m Ai Message \u001b[0m==================================\n",
      "\n",
      "我来帮您查找上海闵行的天气信息。\n",
      "Tool Calls:\n",
      "  tavily_search (call_00_hC8rNQFV9S5B6uLnp9cj0Ghp)\n",
      " Call ID: call_00_hC8rNQFV9S5B6uLnp9cj0Ghp\n",
      "  Args:\n",
      "    query: 上海闵行天气\n",
      "    search_depth: basic\n",
      "=================================\u001b[1m Tool Message \u001b[0m=================================\n",
      "Name: tavily_search\n",
      "\n",
      "{\"query\": \"上海闵行天气\", \"follow_up_questions\": null, \"answer\": null, \"images\": [], \"results\": [{\"url\": \"https://tianqi.moji.com/weather/china/shanghai/minhang-district\", \"title\": \"闵行区天气预报_天气查询 - 墨迹天气\", \"content\": \"闵行区今天实况：19度多云，湿度：74%，北风：3级。白天：24度,阴。 夜间：小雨，17度，天气较热，墨迹天气建议您选择短袖上衣加七分裤的搭配，针织衫是进出空调房的必备单品。\", \"score\": 0.852752, \"raw_content\": null}, {\"url\": \"https://www.weather.com.cn/weather/101020200.shtml\", \"title\": \"闵行天气预报,闵行7天天气预报,闵行15天天气预报,闵行天气查询\", \"content\": \"更多 :   北京 上海 成都 杭州 南京 天津 深圳 重庆 西安 广州 青岛 武汉 全国> 上海 > 闵行 26/*22℃* *3-4级转<3级* 29/*21℃* *<3级* 25/*19℃* *<3级转3-4级* 22/*18℃* *3-4级* 21/*18℃* *3-4级转4-5级* 23/*17℃* *4-5级* 21/*17℃* *4-5级转3-4级* * 较易发 *感冒指数* * 较不宜 *运动指数* * 较易发 *过敏指数* * 不宜 *洗车指数* * 少发 *感冒指数* * 较适宜 *运动指数* * 较易发 *过敏指数* * 不宜 *洗车指数* * 较易发 *感冒指数* * 较不宜 *运动指数* * 较易发 *过敏指数* * 不宜 *洗车指数* * 少发 *感冒指数* * 较适宜 *运动指数* * 较易发 *过敏指数* * 较不宜 *洗车指数* * 较易发 *感冒指数* * 较易发 *过敏指数* * 较不宜 *洗车指数* * 较易发 *感冒指数* * 较易发 *过敏指数* * 较不宜 *洗车指数* * 较易发 *感冒指数* * 较易发 *过敏指数* * 较不宜 *洗车指数* # 高清图集 # 更多>>高清图集 * 桂林 多云 34/23℃ 较适宜 * 青岛 多云转小雨 22/15℃ 适宜\", \"score\": 0.83932644, \"raw_content\": null}], \"response_time\": 0.0, \"request_id\": \"7f549533-1e4e-47f4-a748-302637945268\"}\n",
      "==================================\u001b[1m Ai Message \u001b[0m==================================\n",
      "\n",
      "根据搜索结果，我为您找到上海闵行的天气信息：\n",
      "\n",
      "**当前天气情况：**\n",
      "- 温度：19℃\n",
      "- 天气：多云\n",
      "- 湿度：74%\n",
      "- 风力：北风3级\n",
      "\n",
      "**今日天气：**\n",
      "- 白天：24℃，阴天\n",
      "- 夜间：17℃，小雨\n",
      "\n",
      "**生活建议：**\n",
      "- 穿着：天气较热，建议选择短袖上衣加七分裤的搭配\n",
      "- 出行：建议随身携带针织衫，方便进出空调房\n",
      "\n",
      "如果您需要查看更详细的7天或15天天气预报，可以访问中国天气网（weather.com.cn）或墨迹天气网站获取更全面的信息。\n"
     ]
    }
   ],
   "source": [
    "for step in agent_executor.stream({\"messages\": [input_message]}, stream_mode=\"values\"): # 设置流式传输，使得信息能够逐步展示出来\n",
    "    step[\"messages\"][-1].pretty_print()"
   ]
  },
  {
   "cell_type": "code",
   "execution_count": 15,
   "id": "88716a1e-285c-47e5-a855-62cff47414f8",
   "metadata": {},
   "outputs": [
    {
     "name": "stdout",
     "output_type": "stream",
     "text": [
      "我来|帮|您|查找|上海|闵|行的|天气|信息|。|根据|搜索结果|，|我|为您|整理了|上海|闵|行|区的|天气|信息|：\n",
      "\n",
      "|**|当前|天气|情况|：|**\n",
      "|-| |天气|：|阴|天|\n",
      "|-| |温度|：|18|°|C| /| |22|°|C|\n",
      "|-| |风向|风力|：|北|风|3|级|\n",
      "\n",
      "|**|未来|几天|天气预报|：|**\n",
      "|-| |明天|：|阴|天|，|15|°|C| /| |19|°|C|，|东北|风|1|级|\n",
      "|-| |后天|：|15|°|C| /| |19|°|C|，|北|风|1|级|\n",
      "\n",
      "|**|生活|指数|：|**\n",
      "|-| |感冒|指数|：|较|易|发|\n",
      "|-| |运动|指数|：|较|不宜|\n",
      "|-| |过敏|指数|：|较|易|发|\n",
      "|-| |洗|车|指数|：|不宜|\n",
      "\n",
      "|**|温馨提示|：|**|\n",
      "|目前|闵|行|区|天气|以|阴|天|为主|，|温度|适中|但|早晚|温差|较大|，|建议|您|适当|添加|衣物|，|注意|预防|感冒|。|由于|天气|状况|不佳|，|不太|适合|户外|运动|。\n",
      "\n",
      "|数据|更新时间|：|今天|22|:|54|"
     ]
    }
   ],
   "source": [
    "for step, metadata in agent_executor.stream( # 设置流式传输令牌也可以达到效果\n",
    "    {\"messages\": [input_message]}, stream_mode=\"messages\"\n",
    "):\n",
    "    if metadata[\"langgraph_node\"] == \"agent\" and (text := step.text()):\n",
    "        print(text, end=\"|\")"
   ]
  },
  {
   "cell_type": "markdown",
   "id": "4c19a781-00fa-4a92-9d9f-6358131bac61",
   "metadata": {},
   "source": [
    "添加记忆"
   ]
  },
  {
   "cell_type": "code",
   "execution_count": 16,
   "id": "7ff64ebf-9db1-44c2-a84f-d73785e2dc58",
   "metadata": {},
   "outputs": [],
   "source": [
    "from langgraph.checkpoint.memory import MemorySaver\n",
    "\n",
    "memory = MemorySaver()"
   ]
  },
  {
   "cell_type": "code",
   "execution_count": 17,
   "id": "c92314a5-c697-4b63-94b4-642ee2b8da6c",
   "metadata": {},
   "outputs": [],
   "source": [
    "agent_executor = create_react_agent(model, tools, checkpointer=memory)\n",
    "\n",
    "config = {\"configurable\": {\"thread_id\": \"abc123\"}}"
   ]
  },
  {
   "cell_type": "code",
   "execution_count": 18,
   "id": "1916dfb1-b8a3-49c5-a1f6-335d5eb8500d",
   "metadata": {},
   "outputs": [
    {
     "name": "stdout",
     "output_type": "stream",
     "text": [
      "================================\u001b[1m Human Message \u001b[0m=================================\n",
      "\n",
      "Hi, I'm Bob!\n",
      "==================================\u001b[1m Ai Message \u001b[0m==================================\n",
      "\n",
      "Hi Bob! Nice to meet you! I'm here to help you with any questions or tasks you might have. Whether you need information, research assistance, or just want to chat about something you're curious about, I'm ready to help.\n",
      "\n",
      "What can I do for you today?\n"
     ]
    }
   ],
   "source": [
    "input_message = {\"role\": \"user\", \"content\": \"Hi, I'm Bob!\"}\n",
    "for step in agent_executor.stream(\n",
    "    {\"messages\": [input_message]}, config, stream_mode=\"values\"\n",
    "):\n",
    "    step[\"messages\"][-1].pretty_print()"
   ]
  },
  {
   "cell_type": "code",
   "execution_count": 19,
   "id": "7cc9c78d-fb1d-4f0b-92ae-6e9f79a40187",
   "metadata": {},
   "outputs": [
    {
     "name": "stdout",
     "output_type": "stream",
     "text": [
      "================================\u001b[1m Human Message \u001b[0m=================================\n",
      "\n",
      "What's my name?\n",
      "==================================\u001b[1m Ai Message \u001b[0m==================================\n",
      "\n",
      "Your name is Bob! You introduced yourself at the beginning of our conversation. It's nice to meet you, Bob! 😊\n",
      "\n",
      "Is there anything specific you'd like to talk about or any questions I can help you with?\n"
     ]
    }
   ],
   "source": [
    "input_message = {\"role\": \"user\", \"content\": \"What's my name?\"}\n",
    "for step in agent_executor.stream(\n",
    "    {\"messages\": [input_message]}, config, stream_mode=\"values\"\n",
    "):\n",
    "    step[\"messages\"][-1].pretty_print()"
   ]
  },
  {
   "cell_type": "code",
   "execution_count": 20,
   "id": "4c0233fb-c5da-4ee8-9894-609593fa8292",
   "metadata": {},
   "outputs": [
    {
     "name": "stdout",
     "output_type": "stream",
     "text": [
      "================================\u001b[1m Human Message \u001b[0m=================================\n",
      "\n",
      "What's my name?\n",
      "==================================\u001b[1m Ai Message \u001b[0m==================================\n",
      "\n",
      "I don't have access to personal information about you, including your name. To help me address you properly, you could tell me your name directly, or if you're looking for information about yourself from other sources, you might need to provide more context about what specific information you're seeking.\n"
     ]
    }
   ],
   "source": [
    "# 更改线程，这样就不会记忆另一个线程的内容\n",
    "config = {\"configurable\": {\"thread_id\": \"xyz123\"}}\n",
    "\n",
    "input_message = {\"role\": \"user\", \"content\": \"What's my name?\"}\n",
    "for step in agent_executor.stream(\n",
    "    {\"messages\": [input_message]}, config, stream_mode=\"values\"\n",
    "):\n",
    "    step[\"messages\"][-1].pretty_print()"
   ]
  },
  {
   "cell_type": "code",
   "execution_count": null,
   "id": "6c2939d8-e16f-48d9-b01f-0bf02418bc3d",
   "metadata": {},
   "outputs": [],
   "source": []
  }
 ],
 "metadata": {
  "kernelspec": {
   "display_name": "LangChain Env_1017",
   "language": "python",
   "name": "langchain_env_1017"
  },
  "language_info": {
   "codemirror_mode": {
    "name": "ipython",
    "version": 3
   },
   "file_extension": ".py",
   "mimetype": "text/x-python",
   "name": "python",
   "nbconvert_exporter": "python",
   "pygments_lexer": "ipython3",
   "version": "3.9.24"
  }
 },
 "nbformat": 4,
 "nbformat_minor": 5
}
