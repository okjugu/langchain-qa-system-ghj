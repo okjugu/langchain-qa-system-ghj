{
 "cells": [
  {
   "cell_type": "markdown",
   "id": "c1b682c5-551c-4598-be70-f724523d46d8",
   "metadata": {},
   "source": [
    "文本摘要\n",
    "\n",
    "假设您有一组文档（PDF、Notion 页面、客户问题等），并且您想总结其内容。\n",
    "\n",
    "鉴于大型语言模型在理解和合成文本方面的熟练程度，它们是完成这项工作的绝佳工具。\n",
    "\n",
    "在检索增强生成的背景下，总结文本可以帮助提炼大量检索到的文档中的信息，从而为大型语言模型提供上下文。\n",
    "\n",
    "在本演练中，我们将介绍如何使用大型语言模型总结多个文档中的内容。"
   ]
  },
  {
   "cell_type": "code",
   "execution_count": 7,
   "id": "6ab54a35-fcd8-4ab0-bd52-e56765550248",
   "metadata": {},
   "outputs": [
    {
     "name": "stdin",
     "output_type": "stream",
     "text": [
      " ········\n"
     ]
    }
   ],
   "source": [
    "import getpass\n",
    "import os\n",
    "\n",
    "os.environ[\"LANGSMITH_TRACING\"] = \"true\"\n",
    "os.environ[\"LANGSMITH_API_KEY\"] = getpass.getpass()"
   ]
  },
  {
   "cell_type": "code",
   "execution_count": 8,
   "id": "73ed23c3-ced9-4151-8ec2-eb14b8c5bf82",
   "metadata": {},
   "outputs": [
    {
     "name": "stdout",
     "output_type": "stream",
     "text": [
      "Note: you may need to restart the kernel to use updated packages.\n"
     ]
    }
   ],
   "source": [
    "%pip install --upgrade --quiet tiktoken langchain langgraph beautifulsoup4 langchain-community\n",
    "\n",
    "# Set env var OPENAI_API_KEY or load from a .env file\n",
    "# import dotenv\n",
    "\n",
    "# dotenv.load_dotenv()"
   ]
  },
  {
   "cell_type": "code",
   "execution_count": 9,
   "id": "2b19bf95-3f69-4130-8f28-da621fedf8a4",
   "metadata": {},
   "outputs": [],
   "source": [
    "import os\n",
    "\n",
    "os.environ[\"LANGSMITH_TRACING\"] = \"true\""
   ]
  },
  {
   "cell_type": "code",
   "execution_count": 10,
   "id": "fd2c58a6-14c9-48e2-8f41-566bacdf7bbd",
   "metadata": {},
   "outputs": [],
   "source": [
    "from langchain_community.document_loaders import WebBaseLoader\n",
    "\n",
    "loader = WebBaseLoader(\"https://lilianweng.github.io/posts/2023-06-23-agent/\")\n",
    "docs = loader.load()"
   ]
  },
  {
   "cell_type": "code",
   "execution_count": 11,
   "id": "ee5471d2-8aab-411d-8488-326a1082a5cb",
   "metadata": {},
   "outputs": [],
   "source": [
    "import getpass\n",
    "import os\n",
    "\n",
    "if not os.environ.get(\"DEEPSEEK_API_KEY\"):\n",
    "  os.environ[\"DEEPSEEK_API_KEY\"] = getpass.getpass(\"Enter API key for DeepSeek: \")\n",
    "\n",
    "from langchain.chat_models import init_chat_model\n",
    "\n",
    "llm = init_chat_model(\"deepseek-chat\", model_provider=\"deepseek\")"
   ]
  },
  {
   "cell_type": "code",
   "execution_count": 12,
   "id": "78ad10ea-f3e8-4c46-8663-65e4b32257d6",
   "metadata": {},
   "outputs": [
    {
     "name": "stdout",
     "output_type": "stream",
     "text": [
      "This article provides a comprehensive overview of building autonomous agents using Large Language Models (LLMs) as the core controller. It outlines the key components, presents case studies, and discusses current challenges.\n",
      "\n",
      "### Agent System Overview\n",
      "An LLM-powered autonomous agent system uses the LLM as the brain, supported by three core components:\n",
      "1.  **Planning:** Breaking down complex tasks into subgoals and engaging in self-reflection to learn from mistakes.\n",
      "2.  **Memory:** Utilizing both short-term (in-context learning) and long-term (external vector stores) memory to retain and recall information.\n",
      "3.  **Tool Use:** Calling external APIs to access information or capabilities not contained within the model's weights (e.g., current data, code execution).\n",
      "\n",
      "### Component One: Planning\n",
      "*   **Task Decomposition:** Techniques like **Chain of Thought (CoT)** and **Tree of Thoughts** help the model break down problems into manageable steps.\n",
      "*   **Self-Reflection:** Frameworks like **ReAct** (integrates reasoning and acting) and **Reflexion** (uses dynamic memory to refine actions based on past failures) allow agents to critique and improve their past actions. **Chain of Hindsight** fine-tunes models on sequences of outputs annotated with feedback to encourage self-improvement.\n",
      "\n",
      "### Component Two: Memory\n",
      "*   **Types of Memory:** The article draws an analogy to human memory: Sensory Memory (input embeddings), Short-Term Memory (the model's context window), and Long-Term Memory (an external vector store).\n",
      "*   **Memory Retrieval:** Fast retrieval from long-term memory is enabled by **Maximum Inner Product Search (MIPS)** algorithms like ANNOY, HNSW, and FAISS.\n",
      "\n",
      "### Component Three: Tool Use\n",
      "*   **Frameworks:** Systems like **MRKL** use the LLM as a router to call specialized \"expert\" modules (neural or symbolic). **HuggingGPT** uses an LLM to plan tasks, select models from Hugging Face, execute them, and summarize the results.\n",
      "*   **Evaluation:** **API-Bank** is a benchmark for evaluating tool-augmented LLMs, testing their ability to decide when to use an API, find the right one, and use it correctly.\n",
      "\n",
      "### Case Studies\n",
      "*   **Scientific Discovery:** **ChemCrow** equips an LLM with 13 chemistry-specific tools to design experiments and molecules. Another agent was shown to perform autonomous scientific research, including attempting to synthesize compounds (highlighting potential biosecurity risks).\n",
      "*   **Generative Agents Simulation:** A simulation where 25 LLM-powered agents, equipped with memory and reflection, live in a sandbox world, exhibiting emergent social behaviors like information diffusion and event coordination.\n",
      "*   **Proof-of-Concepts:** Projects like **AutoGPT** and **GPT-Engineer** demonstrate the potential of autonomous agents for completing complex, multi-step tasks and generating entire codebases from natural language descriptions.\n",
      "\n",
      "### Challenges\n",
      "The article concludes by outlining key limitations of current agent systems:\n",
      "1.  **Finite Context Length:** Restricts the amount of historical information and detailed instruction that can be provided.\n",
      "2.  **Difficulty with Long-Term Planning:** Agents struggle to adjust plans when faced with unexpected errors.\n",
      "3.  **Unreliable Natural Language Interface:** Outputs can have formatting errors or sometimes refuse instructions, requiring extensive parsing and error-handling code.\n"
     ]
    }
   ],
   "source": [
    "from langchain.chains.combine_documents import create_stuff_documents_chain\n",
    "from langchain.chains.llm import LLMChain\n",
    "from langchain_core.prompts import ChatPromptTemplate\n",
    "\n",
    "# Define prompt\n",
    "prompt = ChatPromptTemplate.from_messages(\n",
    "    [(\"system\", \"Write a concise summary of the following:\\\\n\\\\n{context}\")]\n",
    ")\n",
    "\n",
    "# Instantiate chain\n",
    "chain = create_stuff_documents_chain(llm, prompt)\n",
    "\n",
    "# Invoke chain\n",
    "result = chain.invoke({\"context\": docs})\n",
    "print(result)"
   ]
  },
  {
   "cell_type": "code",
   "execution_count": 12,
   "id": "94e59ec3-d3ee-4888-bf05-3a42871c1101",
   "metadata": {},
   "outputs": [
    {
     "name": "stdout",
     "output_type": "stream",
     "text": [
      "|This| blog| post| by| Lil|ian| W|eng| provides| a| comprehensive| overview| of| building| autonomous| agents| powered| by| Large| Language| Models| (|LL|Ms|).| It| breaks| down| the| agent| system| into| three| core| components| and| discusses| real|-world| applications| and| challenges|.\n",
      "\n",
      "|###| Core| Components| of| an| LL|M|-P|owered| Agent|\n",
      "\n",
      "|1|.| | **|Planning|:**| The| agent|'s| ability| to| break| down| complex| tasks| and| learn| from| its| actions|.\n",
      "|   | *|  | **|Task| De|composition|:**| Techniques| like| Chain| of| Thought| (|Co|T|)| and| Tree| of| Thoughts| help| the| model| \"|think| step| by| step|\"| and| explore| multiple| reasoning| paths|.\n",
      "|   | *|  | **|Self|-|Ref|lection|:**| Fram|eworks| like| Re|Act| (|which| combines| reasoning| and| acting|)| and| Reflex|ion| allow| the| agent| to| critique| its| past| actions|,| learn| from| mistakes|,| and| improve| future| decisions|.\n",
      "\n",
      "|2|.| | **|Memory|:**| The| agent|'s| capacity| to| store| and| retrieve| information|.\n",
      "|   | *|  | **|Short|-term| Memory|:**| This| is| the| model|'s| in|-con|text| learning|,| limited| by| its| context| window|.\n",
      "|   | *|  | **|Long|-term| Memory|:**| An| external| vector| database| that| stores| vast| information|,| accessed| via| fast| retrieval| algorithms| like| ANN| (|Appro|ximate| Nearest| Ne|ighbors|),| H|NS|W|,| or| FA|ISS|.\n",
      "\n",
      "|3|.| | **|Tool| Use|:**| The| agent|'s| capability| to| use| external| tools| and| APIs| to| overcome| its| inherent| limitations| (|e|.g|.,| lack| of| real|-time| data| or| code| execution|).\n",
      "|   | *|  | Fram|eworks| like| MR|KL| and| Tool|former| fine|-t|une| LL|Ms| to| learn| when| and| how| to| call| external| tools| (|e|.g|.,| calculators|,| search| APIs|).\n",
      "|   | *|  | Real|-world| examples| include| ChatGPT| Plug|ins| and| Hug|ging|GPT|,| which| uses| ChatGPT| as| a| planner| to| coordinate| specialized| AI| models| from| the| Hug|ging| Face| platform|.\n",
      "\n",
      "|###| Case| Studies| &| Proof|-of|-|Concept|\n",
      "\n",
      "|*|  | **|Scientific| Discovery|:**| Agents| like| Chem|C|row| are| augmented| with| domain|-specific| tools| (|e|.g|.,| for| chemistry|)| to| design| experiments| and| synthesize| compounds|,| significantly| outper|forming| generic| LL|Ms| in| expert| evaluations|.\n",
      "|*|  | **|Gener|ative| Agents| Simulation|:**| A| fascinating| experiment| where| |25| LL|M|-powered| agents|,| equipped| with| memory| and| reflection|,| live| in| a| simulated| world|,| exhibiting| emergent| social| behaviors| like| spreading| information| and| coordinating| events|.\n",
      "|*|  | **|Popular| Dem|os|:**| Projects| like| Auto|GPT| and| GPT|-|Engine|er| serve| as| inspiring| proofs|-of|-concept|,| demonstrating| agents| that| can| autonom|ously| pursue| high|-level| goals| or| generate| entire| code|b|ases| from| a| natural| language| description|.\n",
      "\n",
      "|###| Key| Challenges|\n",
      "\n",
      "|*|  | **|Fin|ite| Context| Length|:**| The| limited| context| window| restricts| how| much| history|,| instruction|,| and| data| the| agent| can| process| at| once|.\n",
      "|*|  | **|Long|-term| Planning|:**| LL|Ms| still| struggle| with| robust|ly| adjusting| complex| plans| when| faced| with| unexpected| errors|.\n",
      "|*|  | **|Un|re|liable| Natural| Language| Interface|:**| The| dependence| on| natural| language| for| all| components| makes| the| system| prone| to| formatting| errors| and| unpredictable| model| behavior|,| requiring| extensive| output| parsing|.|\n",
      "\n",
      "|In| summary|,| the| post| illustrates| that| by| combining| an| LL|M|'s| reasoning| with| planning|,| memory|,| and| tool| use|,| we| can| create| powerful| autonomous| agents|.| However|,| challenges| around| context|,| planning| reliability|,| and| the| inherent| unpredict|ability| of| LL|Ms| remain| significant| hurdles| for| building| robust| real|-world| systems|.||"
     ]
    }
   ],
   "source": [
    "# 可以逐个标记地流式传输结果\n",
    "for token in chain.stream({\"context\": docs}):\n",
    "    print(token, end=\"|\")"
   ]
  },
  {
   "cell_type": "markdown",
   "id": "0e083194-e959-483a-afe2-d230ce6657e7",
   "metadata": {},
   "source": [
    "# Map-Reduce：通过并行化总结长文本\n",
    "深入了解 MapReduce 方法。为此，我们首先使用 LLM 将每个文档映射到单独的摘要。然后，我们将这些摘要“reduce”或合并成一个单一的全局摘要。\n",
    "\n",
    "请注意，映射步骤通常在输入文档上并行化。"
   ]
  },
  {
   "cell_type": "code",
   "execution_count": 13,
   "id": "19b552bb-ea28-47b5-9c85-579de3b17de6",
   "metadata": {},
   "outputs": [],
   "source": [
    "from langchain_core.prompts import ChatPromptTemplate\n",
    "\n",
    "map_prompt = ChatPromptTemplate.from_messages(\n",
    "    [(\"system\", \"Write a concise summary of the following:\\\\n\\\\n{context}\")]\n",
    ")"
   ]
  },
  {
   "cell_type": "code",
   "execution_count": 14,
   "id": "75a4005a-4fe1-4acd-80a9-9c01ad2627ae",
   "metadata": {},
   "outputs": [],
   "source": [
    "from langchain import hub\n",
    "\n",
    "map_prompt = hub.pull(\"rlm/map-prompt\")"
   ]
  },
  {
   "cell_type": "code",
   "execution_count": 15,
   "id": "7f70e3b1-c20e-4188-afa9-c99d75dd3b50",
   "metadata": {},
   "outputs": [],
   "source": [
    "# Also available via the hub: `hub.pull(\"rlm/reduce-prompt\")`\n",
    "reduce_template = \"\"\"\n",
    "The following is a set of summaries:\n",
    "{docs}\n",
    "Take these and distill it into a final, consolidated summary\n",
    "of the main themes.\n",
    "\"\"\"\n",
    "\n",
    "reduce_prompt = ChatPromptTemplate([(\"human\", reduce_template)])"
   ]
  },
  {
   "cell_type": "code",
   "execution_count": 16,
   "id": "3dff98db-d159-4b94-bf6c-6f87eb550080",
   "metadata": {},
   "outputs": [
    {
     "name": "stderr",
     "output_type": "stream",
     "text": [
      "Created a chunk of size 1003, which is longer than the specified 1000\n"
     ]
    },
    {
     "name": "stdout",
     "output_type": "stream",
     "text": [
      "Generated 13 documents.\n"
     ]
    }
   ],
   "source": [
    "from langchain_text_splitters import CharacterTextSplitter\n",
    "\n",
    "text_splitter = CharacterTextSplitter.from_tiktoken_encoder(\n",
    "    chunk_size=1000, chunk_overlap=0\n",
    ")\n",
    "split_docs = text_splitter.split_documents(docs)\n",
    "print(f\"Generated {len(split_docs)} documents.\")"
   ]
  },
  {
   "cell_type": "code",
   "execution_count": 18,
   "id": "1b5e2ab2-280a-4e6f-8dce-b3d0016c7505",
   "metadata": {},
   "outputs": [],
   "source": [
    "import operator\n",
    "from typing import Annotated, List, Literal, TypedDict\n",
    "\n",
    "from langchain.chains.combine_documents.reduce import (\n",
    "    acollapse_docs,\n",
    "    split_list_of_docs,\n",
    ")\n",
    "from langchain_core.documents import Document\n",
    "from langgraph.types import Send\n",
    "from langgraph.graph import END, START, StateGraph\n",
    "\n",
    "token_max = 1000\n",
    "\n",
    "\n",
    "def length_function(documents: List[Document]) -> int:\n",
    "    \"\"\"Get number of tokens for input contents.\"\"\"\n",
    "    return sum(llm.get_num_tokens(doc.page_content) for doc in documents)\n",
    "\n",
    "\n",
    "# This will be the overall state of the main graph.\n",
    "# It will contain the input document contents, corresponding\n",
    "# summaries, and a final summary.\n",
    "class OverallState(TypedDict):\n",
    "    # Notice here we use the operator.add\n",
    "    # This is because we want combine all the summaries we generate\n",
    "    # from individual nodes back into one list - this is essentially\n",
    "    # the \"reduce\" part\n",
    "    contents: List[str]\n",
    "    summaries: Annotated[list, operator.add]\n",
    "    collapsed_summaries: List[Document]\n",
    "    final_summary: str\n",
    "\n",
    "\n",
    "# This will be the state of the node that we will \"map\" all\n",
    "# documents to in order to generate summaries\n",
    "class SummaryState(TypedDict):\n",
    "    content: str\n",
    "\n",
    "\n",
    "# Here we generate a summary, given a document\n",
    "async def generate_summary(state: SummaryState):\n",
    "    prompt = map_prompt.invoke(state[\"content\"])\n",
    "    response = await llm.ainvoke(prompt)\n",
    "    return {\"summaries\": [response.content]}\n",
    "\n",
    "\n",
    "# Here we define the logic to map out over the documents\n",
    "# We will use this an edge in the graph\n",
    "def map_summaries(state: OverallState):\n",
    "    # We will return a list of `Send` objects\n",
    "    # Each `Send` object consists of the name of a node in the graph\n",
    "    # as well as the state to send to that node\n",
    "    return [\n",
    "        Send(\"generate_summary\", {\"content\": content}) for content in state[\"contents\"]\n",
    "    ]\n",
    "\n",
    "\n",
    "def collect_summaries(state: OverallState):\n",
    "    return {\n",
    "        \"collapsed_summaries\": [Document(summary) for summary in state[\"summaries\"]]\n",
    "    }\n",
    "\n",
    "\n",
    "async def _reduce(input: dict) -> str:\n",
    "    prompt = reduce_prompt.invoke(input)\n",
    "    response = await llm.ainvoke(prompt)\n",
    "    return response.content\n",
    "\n",
    "\n",
    "# Add node to collapse summaries\n",
    "async def collapse_summaries(state: OverallState):\n",
    "    doc_lists = split_list_of_docs(\n",
    "        state[\"collapsed_summaries\"], length_function, token_max\n",
    "    )\n",
    "    results = []\n",
    "    for doc_list in doc_lists:\n",
    "        results.append(await acollapse_docs(doc_list, _reduce))\n",
    "\n",
    "    return {\"collapsed_summaries\": results}\n",
    "\n",
    "\n",
    "# This represents a conditional edge in the graph that determines\n",
    "# if we should collapse the summaries or not\n",
    "def should_collapse(\n",
    "    state: OverallState,\n",
    ") -> Literal[\"collapse_summaries\", \"generate_final_summary\"]:\n",
    "    num_tokens = length_function(state[\"collapsed_summaries\"])\n",
    "    if num_tokens > token_max:\n",
    "        return \"collapse_summaries\"\n",
    "    else:\n",
    "        return \"generate_final_summary\"\n",
    "\n",
    "\n",
    "# Here we will generate the final summary\n",
    "async def generate_final_summary(state: OverallState):\n",
    "    response = await _reduce(state[\"collapsed_summaries\"])\n",
    "    return {\"final_summary\": response}\n",
    "\n",
    "\n",
    "# Construct the graph\n",
    "# Nodes:\n",
    "graph = StateGraph(OverallState)\n",
    "graph.add_node(\"generate_summary\", generate_summary)  # same as before\n",
    "graph.add_node(\"collect_summaries\", collect_summaries)\n",
    "graph.add_node(\"collapse_summaries\", collapse_summaries)\n",
    "graph.add_node(\"generate_final_summary\", generate_final_summary)\n",
    "\n",
    "# Edges:\n",
    "graph.add_conditional_edges(START, map_summaries, [\"generate_summary\"])\n",
    "graph.add_edge(\"generate_summary\", \"collect_summaries\")\n",
    "graph.add_conditional_edges(\"collect_summaries\", should_collapse)\n",
    "graph.add_conditional_edges(\"collapse_summaries\", should_collapse)\n",
    "graph.add_edge(\"generate_final_summary\", END)\n",
    "\n",
    "app = graph.compile()"
   ]
  },
  {
   "cell_type": "code",
   "execution_count": 19,
   "id": "69abeeed-cc8f-4dcf-9fae-4460c0585cdf",
   "metadata": {},
   "outputs": [
    {
     "data": {
      "image/png": "[encoded data removed]",
      "text/plain": [
       "<IPython.core.display.Image object>"
      ]
     },
     "execution_count": 19,
     "metadata": {},
     "output_type": "execute_result"
    }
   ],
   "source": [
    "from IPython.display import Image\n",
    "\n",
    "Image(app.get_graph().draw_mermaid_png())"
   ]
  },
  {
   "cell_type": "code",
   "execution_count": 20,
   "id": "a6382c9a-36fc-421f-96ca-100128ea43e6",
   "metadata": {},
   "outputs": [
    {
     "name": "stdout",
     "output_type": "stream",
     "text": [
      "['generate_summary']\n",
      "['generate_summary']\n",
      "['generate_summary']\n",
      "['generate_summary']\n",
      "['generate_summary']\n",
      "['generate_summary']\n",
      "['generate_summary']\n",
      "['generate_summary']\n",
      "['generate_summary']\n",
      "['generate_summary']\n",
      "['generate_summary']\n",
      "['generate_summary']\n",
      "['generate_summary']\n",
      "['collect_summaries']\n",
      "['collapse_summaries']\n",
      "['collapse_summaries']\n",
      "['collapse_summaries']\n",
      "['generate_final_summary']\n"
     ]
    }
   ],
   "source": [
    "async for step in app.astream(\n",
    "    {\"contents\": [doc.page_content for doc in split_docs]},\n",
    "    {\"recursion_limit\": 10},\n",
    "):\n",
    "    print(list(step.keys()))"
   ]
  },
  {
   "cell_type": "code",
   "execution_count": 21,
   "id": "feb13acb-d786-47d8-ad19-6ed62563041f",
   "metadata": {},
   "outputs": [
    {
     "name": "stdout",
     "output_type": "stream",
     "text": [
      "{'generate_final_summary': {'final_summary': 'Of course. Based on the provided summaries, here is a consolidated and distilled overview of the main themes describing the evolution and architecture of advanced AI agents.\\n\\n### **Core Paradigm Shift: From Static Models to Dynamic Agents**\\nThe fundamental evolution is a move away from standalone Large Language Models (LLMs) toward **LLM-Powered Autonomous Agent Systems**. In this new paradigm, the LLM acts as an intelligent \"brain\" that orchestrates a broader ecosystem of capabilities to solve complex, real-world problems autonomously.\\n\\n### **The Three Pillars of Agent Architecture**\\nThe technical foundation of these agents rests on three interconnected components:\\n\\n1.  **Reasoning & Planning:** The ability to decompose complex, long-horizon goals into manageable sub-tasks using advanced reasoning techniques.\\n2.  **Memory:** A dual-system comprising short-term (contextual) and long-term (external database) memory to store and retrieve experiences and knowledge.\\n3.  **Tool Use & Augmentation:** The capability to extend innate abilities by interacting with external tools, APIs, and software to perform actions and gather information.\\n\\n### **The Agent Execution Cycle**\\nAgents operate through an iterative loop that integrates thought and action, exemplified by frameworks like **ReAct (Reason + Act)**. This cycle involves:\\n*   **Plan** a step or sub-task.\\n*   **Act** by using a tool or generating an output.\\n*   **Observe** the result and incorporate feedback.\\n*   **Repeat** the process until the goal is achieved.\\n\\n### **Meta-Cognition: Learning and Self-Improvement**\\nA critical advanced capability is the agent\\'s ability to learn from its own performance. Through frameworks like **Reflexion**, agents can:\\n*   Analyze failures and generate self-critiques.\\n*   Store these insights in long-term memory.\\n*   Use past experiences to guide and improve future performance on similar tasks.\\n\\n### **Practical Applications and Inherent Challenges**\\nThis architecture enables powerful, specialized applications (e.g., scientific research, end-to-end software development) but also introduces significant considerations:\\n\\n*   **Power and Risk:** These agents are powerful enough to automate highly complex tasks, but this power carries inherent risks, such as the potential to bypass safeguards, requiring careful management.\\n*   **Structured Development:** Building reliable agents demands structured workflows, including iterative, clarification-driven processes to refine user requirements before execution.\\n*   **Acknowledged Limitations:** Current systems face technical hurdles, including finite context windows, challenges with robust long-term planning, and unpredictable outputs, which must be factored into their design and use.\\n\\n---\\n\\n**In essence, the operation of these advanced AI systems follows a logical progression: they PLAN a path, EXECUTE through a cycle of reasoning and action, and continuously LEARN and improve through self-reflection.**'}}\n"
     ]
    }
   ],
   "source": [
    "print(step)"
   ]
  },
  {
   "cell_type": "code",
   "execution_count": null,
   "id": "ec98dbe1-a98b-4b02-a3ac-6951a46de86e",
   "metadata": {},
   "outputs": [],
   "source": []
  }
 ],
 "metadata": {
  "kernelspec": {
   "display_name": "LangChain Env_1017",
   "language": "python",
   "name": "langchain_env_1017"
  },
  "language_info": {
   "codemirror_mode": {
    "name": "ipython",
    "version": 3
   },
   "file_extension": ".py",
   "mimetype": "text/x-python",
   "name": "python",
   "nbconvert_exporter": "python",
   "pygments_lexer": "ipython3",
   "version": "3.9.24"
  }
 },
 "nbformat": 4,
 "nbformat_minor": 5
}
