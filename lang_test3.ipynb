{
 "cells": [
  {
   "cell_type": "markdown",
   "id": "9ab3b660-8684-401a-b014-9a6a690c2c50",
   "metadata": {},
   "source": [
    "# 文本标签分类\n",
    "标签化包含几个组成部分\n",
    "\n",
    "- function：与提取类似，标签化使用函数来指定模型应如何标记文档\n",
    "- schema：定义了我们希望如何标记文档"
   ]
  },
  {
   "cell_type": "code",
   "execution_count": 1,
   "id": "b7e0ca7b-0411-44ae-8f4f-f2d704ef324e",
   "metadata": {},
   "outputs": [
    {
     "name": "stdin",
     "output_type": "stream",
     "text": [
      "Enter API key for DeepSeek:  ········\n"
     ]
    }
   ],
   "source": [
    "import getpass\n",
    "import os\n",
    "\n",
    "if not os.environ.get(\"DEEPSEEK_API_KEY\"):\n",
    "  os.environ[\"DEEPSEEK_API_KEY\"] = getpass.getpass(\"Enter API key for DeepSeek: \")\n",
    "\n",
    "from langchain.chat_models import init_chat_model\n",
    "\n",
    "llm = init_chat_model(\"deepseek-chat\", model_provider=\"deepseek\")"
   ]
  },
  {
   "cell_type": "markdown",
   "id": "93c49792-0596-4e81-bb12-479ddae171a2",
   "metadata": {},
   "source": [
    "让我们在 Schema 中指定一个 Pydantic 模型，其中包含一些属性及其预期类型"
   ]
  },
  {
   "cell_type": "code",
   "execution_count": 2,
   "id": "5c9d5fc8-eef8-466f-8ad8-2ce035c580c1",
   "metadata": {},
   "outputs": [],
   "source": [
    "from langchain_core.prompts import ChatPromptTemplate\n",
    "from pydantic import BaseModel, Field\n",
    "\n",
    "tagging_prompt = ChatPromptTemplate.from_template(\n",
    "    \"\"\"\n",
    "Extract the desired information from the following passage.\n",
    "\n",
    "Only extract the properties mentioned in the 'Classification' function.\n",
    "\n",
    "Passage:\n",
    "{input}\n",
    "\"\"\"\n",
    ")\n",
    "\n",
    "\n",
    "class Classification(BaseModel):\n",
    "    sentiment: str = Field(description=\"The sentiment of the text\")\n",
    "    aggressiveness: int = Field(\n",
    "        description=\"How aggressive the text is on a scale from 1 to 10\"\n",
    "    )\n",
    "    language: str = Field(description=\"The language the text is written in\")\n",
    "\n",
    "\n",
    "# Structured LLM\n",
    "structured_llm = llm.with_structured_output(Classification)"
   ]
  },
  {
   "cell_type": "code",
   "execution_count": 3,
   "id": "da12d03e-4df1-45ba-82b7-d379e87b9e53",
   "metadata": {},
   "outputs": [
    {
     "data": {
      "text/plain": [
       "Classification(sentiment='positive', aggressiveness=1, language='Spanish')"
      ]
     },
     "execution_count": 3,
     "metadata": {},
     "output_type": "execute_result"
    }
   ],
   "source": [
    "inp = \"Estoy increiblemente contento de haberte conocido! Creo que seremos muy buenos amigos!\"\n",
    "prompt = tagging_prompt.invoke({\"input\": inp})\n",
    "response = structured_llm.invoke(prompt)\n",
    "\n",
    "response"
   ]
  },
  {
   "cell_type": "code",
   "execution_count": 4,
   "id": "45a5fc05-32d9-4670-bf49-bb961b017a3f",
   "metadata": {},
   "outputs": [
    {
     "data": {
      "text/plain": [
       "{'sentiment': 'negative', 'aggressiveness': 9, 'language': 'Spanish'}"
      ]
     },
     "execution_count": 4,
     "metadata": {},
     "output_type": "execute_result"
    }
   ],
   "source": [
    "inp = \"Estoy muy enojado con vos! Te voy a dar tu merecido!\"\n",
    "prompt = tagging_prompt.invoke({\"input\": inp})\n",
    "response = structured_llm.invoke(prompt)\n",
    "\n",
    "response.model_dump()"
   ]
  },
  {
   "cell_type": "code",
   "execution_count": 5,
   "id": "0024cafd-27c4-4f48-a842-dd9900fd6528",
   "metadata": {},
   "outputs": [
    {
     "data": {
      "text/plain": [
       "{'sentiment': 'negative', 'aggressiveness': 2, 'language': 'Chinese'}"
      ]
     },
     "execution_count": 5,
     "metadata": {},
     "output_type": "execute_result"
    }
   ],
   "source": [
    "inp = \"今天没有完成任务，又困又饿。\"\n",
    "prompt = tagging_prompt.invoke({\"input\": inp})\n",
    "response = structured_llm.invoke(prompt)\n",
    "\n",
    "response.model_dump()"
   ]
  },
  {
   "cell_type": "markdown",
   "id": "987ac8a9-c863-4fdd-9f57-db687970e325",
   "metadata": {},
   "source": [
    "\n",
    "## 下面使用了枚举类型，只能输出指定类型，比如 enum=[\"happy\", \"neutral\", \"sad\"]"
   ]
  },
  {
   "cell_type": "code",
   "execution_count": 9,
   "id": "b674d2f2-d0b2-4eb0-84ef-08ed42720e8d",
   "metadata": {},
   "outputs": [],
   "source": [
    "class Classification(BaseModel):\n",
    "    sentiment: str = Field(..., enum=[\"happy\", \"neutral\", \"sad\"])\n",
    "    aggressiveness: int = Field(\n",
    "        ...,\n",
    "        description=\"describes how aggressive the statement is, the higher the number the more aggressive\",\n",
    "        enum=[1, 2, 3, 4, 5],\n",
    "    )\n",
    "    language: str = Field(\n",
    "        ..., enum=[\"spanish\", \"english\", \"french\", \"german\", \"italian\"]\n",
    "    )"
   ]
  },
  {
   "cell_type": "code",
   "execution_count": 10,
   "id": "8d5048e4-7472-4620-8386-2da015edacec",
   "metadata": {},
   "outputs": [],
   "source": [
    "tagging_prompt = ChatPromptTemplate.from_template(\n",
    "    \"\"\"\n",
    "Extract the desired information from the following passage.\n",
    "\n",
    "Only extract the properties mentioned in the 'Classification' function.\n",
    "\n",
    "Passage:\n",
    "{input}\n",
    "\"\"\"\n",
    ")\n",
    "\n",
    "structured_llm = llm.with_structured_output(Classification)"
   ]
  },
  {
   "cell_type": "code",
   "execution_count": 11,
   "id": "2215b18a-bef4-4b3e-9882-97233cef35a8",
   "metadata": {},
   "outputs": [
    {
     "data": {
      "text/plain": [
       "Classification(sentiment='happy', aggressiveness=1, language='spanish')"
      ]
     },
     "execution_count": 11,
     "metadata": {},
     "output_type": "execute_result"
    }
   ],
   "source": [
    "inp = \"Estoy increiblemente contento de haberte conocido! Creo que seremos muy buenos amigos!\"\n",
    "prompt = tagging_prompt.invoke({\"input\": inp})\n",
    "structured_llm.invoke(prompt)"
   ]
  },
  {
   "cell_type": "markdown",
   "id": "d3d9dd0e-03fb-4998-b48f-ce7ceddc464a",
   "metadata": {},
   "source": [
    "#### 询问gpt后得到讲解如下"
   ]
  },
  {
   "cell_type": "markdown",
   "id": "e8a27547-8980-418c-9324-301f1b76f2ed",
   "metadata": {},
   "source": [
    "## Pydantic 模型详解\n",
    "\n",
    "### 什么是 Pydantic 模型？\n",
    "\n",
    "Pydantic 是一个 Python 库，主要用于**数据验证**和**设置管理**。它的核心思想是：\n",
    "\n",
    "- **基于类型注解**：使用 Python 的类型提示来定义数据结构\n",
    "- **运行时验证**：在数据创建和修改时自动验证数据的正确性\n",
    "- **数据序列化**：轻松地在不同格式（如 JSON、字典）之间转换数据\n",
    "\n",
    "### 在代码中的具体体现\n",
    "\n",
    "让我们分析这段代码中 Pydantic 模型的作用：\n",
    "\n",
    "```python\n",
    "from pydantic import BaseModel, Field\n",
    "\n",
    "class Classification(BaseModel):\n",
    "    sentiment: str = Field(..., enum=[\"happy\", \"neutral\", \"sad\"])\n",
    "    aggressiveness: int = Field(\n",
    "        ...,\n",
    "        description=\"describes how aggressive the statement is, the higher the number the more aggressive\",\n",
    "        enum=[1, 2, 3, 4, 5],\n",
    "    )\n",
    "    language: str = Field(\n",
    "        ..., enum=[\"spanish\", \"english\", \"french\", \"german\", \"italian\"]\n",
    "    )\n",
    "```\n",
    "\n",
    "### Pydantic 模型在这里的具体作用\n",
    "\n",
    "#### 1. **数据模式定义**\n",
    "```python\n",
    "class Classification(BaseModel):\n",
    "```\n",
    "- 继承自 `BaseModel` 表明这是一个 Pydantic 数据模型\n",
    "- 定义了从文本中提取信息的\"蓝图\"或\"合同\"\n",
    "\n",
    "#### 2. **字段类型约束**\n",
    "```python\n",
    "sentiment: str\n",
    "aggressiveness: int  \n",
    "language: str\n",
    "```\n",
    "- **类型注解**：明确指定每个字段的数据类型\n",
    "- `sentiment` 和 `language` 必须是字符串\n",
    "- `aggressiveness` 必须是整数\n",
    "- 如果 LLM 返回了错误类型，Pydantic 会自动验证并报错\n",
    "\n",
    "#### 3. **字段验证规则**\n",
    "```python\n",
    "Field(..., enum=[\"happy\", \"neutral\", \"sad\"])\n",
    "```\n",
    "- **`...`**：表示该字段是必需的（不能为 None）\n",
    "- **`enum`**：限制字段只能取特定的值\n",
    "  - `sentiment` 只能是 \"happy\", \"neutral\", \"sad\" 之一\n",
    "  - `aggressiveness` 只能是 1-5 的整数\n",
    "  - `language` 只能是预定义的五种语言之一\n",
    "\n",
    "#### 4. **字段描述信息**\n",
    "```python\n",
    "description=\"describes how aggressive the statement is...\"\n",
    "```\n",
    "- 这个描述会传递给 LLM，帮助它理解如何填充这个字段\n",
    "- 这是 Pydantic 与 LLM 协作的关键桥梁\n",
    "\n",
    "### Pydantic 在流程中的工作方式\n",
    "\n",
    "#### 创建阶段：定义期望的输出结构\n",
    "```python\n",
    "# 这创建了一个\"数据合同\"\n",
    "# 告诉系统：我期望得到这样的结构化数据\n",
    "structured_llm = llm.with_structured_output(Classification)\n",
    "```\n",
    "\n",
    "#### 执行阶段：自动验证和转换\n",
    "当 LLM 返回结果时：\n",
    "\n",
    "1. **LangChain 自动调用 Pydantic 验证**\n",
    "2. **Pydantic 检查数据类型和约束**\n",
    "   - 确保 `sentiment` 是字符串且在枚举范围内\n",
    "   - 确保 `aggressiveness` 是整数且在 1-5 范围内\n",
    "   - 确保 `language` 是预定义的语言之一\n",
    "3. **如果验证通过**：创建 `Classification` 对象\n",
    "4. **如果验证失败**：抛出清晰的错误信息\n",
    "\n",
    "#### 结果使用阶段\n",
    "```python\n",
    "# 获得一个经过验证的 Pydantic 对象\n",
    "result = structured_llm.invoke(prompt)\n",
    "\n",
    "# 可以直接访问属性（因为类型已经确保正确）\n",
    "print(result.sentiment)      # 一定是字符串\n",
    "print(result.aggressiveness) # 一定是 1-5 的整数\n",
    "print(result.language)       # 一定是预定义语言之一\n",
    "```\n",
    "\n",
    "### Pydantic 带来的核心价值\n",
    "\n",
    "#### 1. **数据可靠性**\n",
    "```python\n",
    "# 如果没有 Pydantic，你可能得到：\n",
    "# - sentiment: \"very positive\" （不在枚举中）\n",
    "# - aggressiveness: \"low\" （不是数字）\n",
    "# - language: \"Español\" （不在枚举中）\n",
    "\n",
    "# 有了 Pydantic，你得到：\n",
    "Classification(sentiment='happy', aggressiveness=1, language='spanish')\n",
    "```\n",
    "\n",
    "#### 2. **开发效率**\n",
    "- 自动处理数据验证，无需手动写 if-else 检查\n",
    "- 清晰的错误信息帮助快速定位问题\n",
    "- 类型提示让 IDE 能够提供更好的代码补全和错误检测\n",
    "\n",
    "#### 3. **与 LLM 的无缝集成**\n",
    "```python\n",
    "# Pydantic 模型自动转换为 LLM 能理解的结构化指令\n",
    "structured_llm = llm.with_structured_output(Classification)\n",
    "# 底层会自动将 Pydantic 模型转换为 JSON Schema 等格式给 LLM\n",
    "```\n",
    "\n",
    "### 实际效果演示\n",
    "\n",
    "假设 LLM 返回了这样的原始数据：\n",
    "```json\n",
    "{\n",
    "  \"sentiment\": \"positive\",\n",
    "  \"aggressiveness\": 1,\n",
    "  \"language\": \"Spanish\"\n",
    "}\n",
    "```\n",
    "\n",
    "Pydantic 会自动：\n",
    "1. 将 \"positive\" 映射到最接近的枚举值 \"happy\"\n",
    "2. 验证 1 在 1-5 范围内 ✓\n",
    "3. 将 \"Spanish\" 标准化为 \"spanish\"\n",
    "\n",
    "最终输出：\n",
    "```python\n",
    "Classification(sentiment='happy', aggressiveness=1, language='spanish')\n",
    "```\n",
    "\n",
    "### 总结\n",
    "\n",
    "**Pydantic 模型在这里的作用是**：\n",
    "- 🎯 **定义数据契约**：明确指定要从文本中提取什么信息\n",
    "- 🔒 **强制执行验证**：确保提取的数据符合预期格式和约束  \n",
    "- 🤖 **指导 LLM 行为**：通过字段描述和枚举限制 LLM 的输出\n",
    "- 🚀 **提升开发体验**：自动处理数据验证，让代码更健壮可靠\n",
    "\n",
    "这就是为什么在结构化输出中使用 Pydantic 模型如此重要——它将模糊的文本生成变成了精确的数据提取流水线。"
   ]
  },
  {
   "cell_type": "code",
   "execution_count": null,
   "id": "b92b1186-5a5f-4709-a5cb-bcc055b1fb8e",
   "metadata": {},
   "outputs": [],
   "source": []
  }
 ],
 "metadata": {
  "kernelspec": {
   "display_name": "LangChain Env_1017",
   "language": "python",
   "name": "langchain_env_1017"
  },
  "language_info": {
   "codemirror_mode": {
    "name": "ipython",
    "version": 3
   },
   "file_extension": ".py",
   "mimetype": "text/x-python",
   "name": "python",
   "nbconvert_exporter": "python",
   "pygments_lexer": "ipython3",
   "version": "3.9.24"
  }
 },
 "nbformat": 4,
 "nbformat_minor": 5
}
