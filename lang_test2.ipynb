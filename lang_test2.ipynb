{
 "cells": [
  {
   "cell_type": "markdown",
   "id": "bbfbbfc0-16ab-4d8b-93b4-900c5eb072b8",
   "metadata": {},
   "source": [
    "# 语义搜索引擎\n",
    "\n",
    "本教程将帮助您熟悉LangChain的文档加载器、嵌入和向量存储抽象。这些抽象旨在支持从（向量）数据库和其他来源检索数据，以便与LLM工作流集成。它们对于在模型推理过程中获取数据进行推理的应用程序非常重要，例如检索增强生成（RAG）（请参阅我们的RAG教程此处）。\n",
    "\n",
    "在这里，我们将在PDF文档上构建一个搜索引擎。这将使我们能够检索PDF中与输入查询相似的段落。"
   ]
  },
  {
   "cell_type": "code",
   "execution_count": 1,
   "id": "6d5036b2-4da8-4e0a-96e8-aa0ee106a7d0",
   "metadata": {},
   "outputs": [],
   "source": [
    "from langchain_core.documents import Document\n",
    "\n",
    "documents = [\n",
    "    Document(\n",
    "        page_content=\"Dogs are great companions, known for their loyalty and friendliness.\",\n",
    "        metadata={\"source\": \"mammal-pets-doc\"},\n",
    "    ),\n",
    "    Document(\n",
    "        page_content=\"Cats are independent pets that often enjoy their own space.\",\n",
    "        metadata={\"source\": \"mammal-pets-doc\"},\n",
    "    ),\n",
    "]"
   ]
  },
  {
   "cell_type": "code",
   "execution_count": 16,
   "id": "77e00279-c2e0-4a87-aa57-73b89e170f7e",
   "metadata": {},
   "outputs": [
    {
     "name": "stdout",
     "output_type": "stream",
     "text": [
      "104\n"
     ]
    }
   ],
   "source": [
    "from langchain_community.document_loaders import PyPDFLoader\n",
    "\n",
    "file_path = \"./example_data/nke-10k-2023.pdf\"\n",
    "loader = PyPDFLoader(file_path)\n",
    "\n",
    "docs = loader.load()\n",
    "\n",
    "print(len(docs))"
   ]
  },
  {
   "cell_type": "code",
   "execution_count": 17,
   "id": "85276291-8f82-4e66-8153-ceffe48f0bbc",
   "metadata": {},
   "outputs": [
    {
     "name": "stdout",
     "output_type": "stream",
     "text": [
      "stocklight.com\n",
      " \n",
      ">\n",
      "Stocks\n",
      " \n",
      ">\n",
      "United States\n",
      " \n",
      "Nike\n",
      " \n",
      ">\n",
      "Annual Reports\n",
      " \n",
      ">\n",
      "2023 Annual Report\n",
      "Nike Annual Report 2023\n",
      "Form 10-K (NYSE:NKE)\n",
      "Published: July 20th, 2023\n",
      "Brought to you by\n",
      "\n",
      "{'producer': 'Qt 4.8.7', 'creator': 'wkhtmltopdf 0.12.6.1', 'creationdate': '2024-11-22T21:07:39+00:00', 'title': 'nke-20230531', 'source': './example_data/nke-10k-2023.pdf', 'total_pages': 104, 'page': 0, 'page_label': '1'}\n"
     ]
    }
   ],
   "source": [
    "print(f\"{docs[0].page_content[:200]}\\n\")\n",
    "print(docs[0].metadata)"
   ]
  },
  {
   "cell_type": "code",
   "execution_count": 18,
   "id": "6fb560c0-6a2f-401a-a222-653cc2e69bc1",
   "metadata": {},
   "outputs": [
    {
     "data": {
      "text/plain": [
       "505"
      ]
     },
     "execution_count": 18,
     "metadata": {},
     "output_type": "execute_result"
    }
   ],
   "source": [
    "from langchain_text_splitters import RecursiveCharacterTextSplitter\n",
    "\n",
    "text_splitter = RecursiveCharacterTextSplitter(\n",
    "    chunk_size=1000, chunk_overlap=200, add_start_index=True\n",
    ")\n",
    "all_splits = text_splitter.split_documents(docs)\n",
    "\n",
    "len(all_splits)"
   ]
  },
  {
   "cell_type": "code",
   "execution_count": 19,
   "id": "76094efc-7472-4105-996f-9e28bf5052a8",
   "metadata": {},
   "outputs": [
    {
     "name": "stdout",
     "output_type": "stream",
     "text": [
      "Generated vectors of length 1024\n",
      "\n",
      "[0.010377250611782074, 0.02415759488940239, 0.011720961891114712, -0.08389433473348618, 0.013305664993822575, 0.051148671656847, -0.005875086411833763, -0.015145965851843357, 0.007350247818976641, 0.08389433473348618]\n"
     ]
    }
   ],
   "source": [
    "import getpass\n",
    "import os\n",
    "\n",
    "# 设置阿里云API密钥（替换OpenAI的）\n",
    "if not os.environ.get(\"DASHSCOPE_API_KEY\"):\n",
    "    os.environ[\"DASHSCOPE_API_KEY\"] = getpass.getpass(\"Enter API key for Alibaba Cloud DashScope: \")\n",
    "\n",
    "# 导入阿里云的嵌入模型\n",
    "from langchain.embeddings import DashScopeEmbeddings\n",
    "\n",
    "# 初始化阿里云嵌入模型\n",
    "embeddings = DashScopeEmbeddings(model=\"text-embedding-v4\")\n",
    "\n",
    "# 假设 all_splits 是您的文档分割列表\n",
    "vector_1 = embeddings.embed_query(all_splits[0].page_content)\n",
    "vector_2 = embeddings.embed_query(all_splits[1].page_content)\n",
    "\n",
    "# 阿里云嵌入向量维度可能是1024或1536，具体看模型版本\n",
    "assert len(vector_1) == len(vector_2)\n",
    "print(f\"Generated vectors of length {len(vector_1)}\\n\")\n",
    "print(vector_1[:10])  # 打印前10个维度\n"
   ]
  },
  {
   "cell_type": "code",
   "execution_count": 20,
   "id": "9634113a-ea1f-4cdd-8d43-63336464be31",
   "metadata": {},
   "outputs": [],
   "source": [
    "from langchain_core.vectorstores import InMemoryVectorStore\n",
    "\n",
    "vector_store = InMemoryVectorStore(embeddings)"
   ]
  },
  {
   "cell_type": "code",
   "execution_count": 21,
   "id": "aa4cd41c-7626-4e3e-a98b-8d84bbccb58e",
   "metadata": {},
   "outputs": [],
   "source": [
    "ids = vector_store.add_documents(documents=all_splits)"
   ]
  },
  {
   "cell_type": "code",
   "execution_count": 26,
   "id": "d01302f9-9937-46e5-9090-44801d86e596",
   "metadata": {},
   "outputs": [
    {
     "name": "stdout",
     "output_type": "stream",
     "text": [
      "page_content='consumer operations sell products through the following number of retail stores in the United States:\n",
      "U.S. RETAIL STORES\n",
      "NUMBER\n",
      "NIKE Brand factory stores\n",
      "213 \n",
      "NIKE Brand in-line stores (including employee-only stores)\n",
      "74 \n",
      "Converse stores (including factory stores)\n",
      "82 \n",
      "TOTAL\n",
      "369\n",
      " \n",
      "In the United States, NIKE has eight significant distribution centers. Refer to Item 2. Properties for further information.' metadata={'producer': 'Qt 4.8.7', 'creator': 'wkhtmltopdf 0.12.6.1', 'creationdate': '2024-11-22T21:07:39+00:00', 'title': 'nke-20230531', 'source': './example_data/nke-10k-2023.pdf', 'total_pages': 104, 'page': 6, 'page_label': '7', 'start_index': 3117}\n"
     ]
    }
   ],
   "source": [
    "results = vector_store.similarity_search(\n",
    "    \"耐克有几家经销中心点?\"\n",
    ")\n",
    "\n",
    "print(results[0])"
   ]
  },
  {
   "cell_type": "code",
   "execution_count": 23,
   "id": "6c08d0fd-17b4-4135-b2e2-863699c1615e",
   "metadata": {},
   "outputs": [
    {
     "name": "stdout",
     "output_type": "stream",
     "text": [
      "page_content='PART I\n",
      "ITEM 1. BUSINESS\n",
      "GENERAL\n",
      "NIKE, Inc. was incorporated in 1967 under the laws of the State of Oregon. As used in this Annual Report on Form 10-K (this \"Annual Report\"), the terms \"we,\" \"us,\" \"our,\" \"NIKE\" and\n",
      "the \"Company\" refer to NIKE, Inc. and its predecessors, subsidiaries and affiliates, collectively, unless the context indicates otherwise.\n",
      "Our principal business activity is the design, development and worldwide marketing and selling of athletic footwear, apparel, equipment, accessories and services. NIKE is the largest\n",
      "seller of athletic footwear and apparel in the world. We sell our products through NIKE Direct operations, which are comprised of both NIKE-owned retail stores and sales through our\n",
      "digital platforms (also referred to as \"NIKE Brand Digital\"), to retail accounts and to a mix of independent distributors, licensees and sales representatives in nearly all countries around' metadata={'producer': 'Qt 4.8.7', 'creator': 'wkhtmltopdf 0.12.6.1', 'creationdate': '2024-11-22T21:07:39+00:00', 'title': 'nke-20230531', 'source': './example_data/nke-10k-2023.pdf', 'total_pages': 104, 'page': 5, 'page_label': '6', 'start_index': 0}\n"
     ]
    }
   ],
   "source": [
    "results = await vector_store.asimilarity_search(\"When was Nike incorporated?\")\n",
    "\n",
    "print(results[0])"
   ]
  },
  {
   "cell_type": "code",
   "execution_count": 24,
   "id": "1686572e-3747-4bac-b651-68ea4a3915ac",
   "metadata": {},
   "outputs": [
    {
     "name": "stdout",
     "output_type": "stream",
     "text": [
      "Score: 0.6823624701000965\n",
      "\n",
      "page_content='NIKE, INC.\n",
      "CONSOLIDATED STATEMENTS OF INCOME\n",
      "YEAR ENDED MAY 31,\n",
      "(In millions, except per share data)\n",
      "2023\n",
      "2022\n",
      "2021\n",
      "Revenues\n",
      "$\n",
      "51,217\n",
      " \n",
      "$\n",
      "46,710\n",
      " \n",
      "$\n",
      "44,538\n",
      " \n",
      "Cost of sales\n",
      "28,925\n",
      " \n",
      "25,231\n",
      " \n",
      "24,576\n",
      " \n",
      "Gross profit\n",
      "22,292\n",
      " \n",
      "21,479\n",
      " \n",
      "19,962\n",
      " \n",
      "Demand creation expense\n",
      "4,060\n",
      " \n",
      "3,850\n",
      " \n",
      "3,114\n",
      " \n",
      "Operating overhead expense\n",
      "12,317\n",
      " \n",
      "10,954\n",
      " \n",
      "9,911\n",
      " \n",
      "Total selling and administrative expense\n",
      "16,377\n",
      " \n",
      "14,804\n",
      " \n",
      "13,025\n",
      " \n",
      "Interest expense (income), net\n",
      "(\n",
      "6\n",
      ")\n",
      "205\n",
      " \n",
      "262\n",
      " \n",
      "Other (income) expense, net\n",
      "(\n",
      "280\n",
      ")\n",
      "(\n",
      "181\n",
      ")\n",
      "14\n",
      " \n",
      "Income before income taxes\n",
      "6,201\n",
      " \n",
      "6,651\n",
      " \n",
      "6,661\n",
      " \n",
      "Income tax expense\n",
      "1,131\n",
      " \n",
      "605\n",
      " \n",
      "934\n",
      " \n",
      "NET INCOME\n",
      "$\n",
      "5,070\n",
      " \n",
      "$\n",
      "6,046\n",
      " \n",
      "$\n",
      "5,727\n",
      " \n",
      "Earnings per common share:\n",
      "Basic\n",
      "$\n",
      "3.27\n",
      " \n",
      "$\n",
      "3.83\n",
      " \n",
      "$\n",
      "3.64\n",
      " \n",
      "Diluted\n",
      "$\n",
      "3.23\n",
      " \n",
      "$\n",
      "3.75\n",
      " \n",
      "$\n",
      "3.56\n",
      " \n",
      "Weighted average common shares outstanding:\n",
      "Basic\n",
      "1,551.6\n",
      " \n",
      "1,578.8\n",
      " \n",
      "1,573.0\n",
      " \n",
      "Diluted\n",
      "1,569.8\n",
      " \n",
      "1,610.8\n",
      " \n",
      "1,609.4\n",
      " \n",
      "The accompanying Notes to the Consolidated Financial Statements are an integral part of this statement.\n",
      "2023 FORM 10-K \n",
      "55' metadata={'producer': 'Qt 4.8.7', 'creator': 'wkhtmltopdf 0.12.6.1', 'creationdate': '2024-11-22T21:07:39+00:00', 'title': 'nke-20230531', 'source': './example_data/nke-10k-2023.pdf', 'total_pages': 104, 'page': 59, 'page_label': '60', 'start_index': 0}\n"
     ]
    }
   ],
   "source": [
    "# Note that providers implement different scores; the score here\n",
    "# is a distance metric that varies inversely with similarity.\n",
    "\n",
    "results = vector_store.similarity_search_with_score(\"What was Nike's revenue in 2023?\")\n",
    "doc, score = results[0]\n",
    "print(f\"Score: {score}\\n\")\n",
    "print(doc)"
   ]
  },
  {
   "cell_type": "code",
   "execution_count": 25,
   "id": "1ba5218b-bf80-47a3-a403-a03e45fd476a",
   "metadata": {},
   "outputs": [
    {
     "name": "stdout",
     "output_type": "stream",
     "text": [
      "page_content='GROSS MARGIN\n",
      "FISCAL 2023 COMPARED TO FISCAL 2022\n",
      "For fiscal 2023, our consolidated gross profit increased 4% to $22,292 million compared to $21,479 million for fiscal 2022. Gross margin decreased 250 basis points to 43.5% for fiscal\n",
      "2023 compared to 46.0% for fiscal 2022 due to the following:\n",
      "*Wholesale equivalent\n",
      "The decrease in gross margin for fiscal 2023 was primarily due to:\n",
      "•\n",
      "Higher NIKE Brand product costs, on a wholesale equivalent basis, primarily due to higher input costs and elevated inbound freight and logistics costs as well as product mix;\n",
      "•\n",
      "Lower margin in our NIKE Direct business, driven by higher promotional activity to liquidate inventory in the current period compared to lower promotional activity in the prior\n",
      "period resulting from lower available inventory supply;\n",
      "•\n",
      "Unfavorable changes in net foreign currency exchange rates, including hedges; and\n",
      "•\n",
      "Lower off-price margin, on a wholesale equivalent basis.\n",
      "This was partially offset by:\n",
      "•' metadata={'producer': 'Qt 4.8.7', 'creator': 'wkhtmltopdf 0.12.6.1', 'creationdate': '2024-11-22T21:07:39+00:00', 'title': 'nke-20230531', 'source': './example_data/nke-10k-2023.pdf', 'total_pages': 104, 'page': 38, 'page_label': '39', 'start_index': 0}\n"
     ]
    }
   ],
   "source": [
    "embedding = embeddings.embed_query(\"How were Nike's margins impacted in 2023?\")\n",
    "\n",
    "results = vector_store.similarity_search_by_vector(embedding)\n",
    "print(results[0])"
   ]
  },
  {
   "cell_type": "code",
   "execution_count": null,
   "id": "29782f1d-277d-41b1-95de-4834c6f6ea57",
   "metadata": {},
   "outputs": [],
   "source": []
  }
 ],
 "metadata": {
  "kernelspec": {
   "display_name": "LangChain Env_1017",
   "language": "python",
   "name": "langchain_env_1017"
  },
  "language_info": {
   "codemirror_mode": {
    "name": "ipython",
    "version": 3
   },
   "file_extension": ".py",
   "mimetype": "text/x-python",
   "name": "python",
   "nbconvert_exporter": "python",
   "pygments_lexer": "ipython3",
   "version": "3.9.24"
  }
 },
 "nbformat": 4,
 "nbformat_minor": 5
}
